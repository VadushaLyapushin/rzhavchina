{
  "nbformat": 4,
  "nbformat_minor": 0,
  "metadata": {
    "colab": {
      "provenance": [],
      "authorship_tag": "ABX9TyOVpQFQG48k4Lit2BJX/6D1",
      "include_colab_link": true
    },
    "kernelspec": {
      "name": "python3",
      "display_name": "Python 3"
    },
    "language_info": {
      "name": "python"
    }
  },
  "cells": [
    {
      "cell_type": "markdown",
      "metadata": {
        "id": "view-in-github",
        "colab_type": "text"
      },
      "source": [
        "<a href=\"https://colab.research.google.com/github/VadushaLyapushin/rzhavchina/blob/main/RenameImages.ipynb\" target=\"_parent\"><img src=\"https://colab.research.google.com/assets/colab-badge.svg\" alt=\"Open In Colab\"/></a>"
      ]
    },
    {
      "cell_type": "markdown",
      "source": [
        "код для изменения имен файлов"
      ],
      "metadata": {
        "id": "PhvtQJ96_1Ki"
      }
    },
    {
      "cell_type": "code",
      "source": [
        "from PIL import Image\n",
        "import PIL\n",
        "from google.colab import files\n",
        "from skimage import io\n",
        "import cv2 as cv\n",
        "from google.colab.patches import cv2_imshow\n",
        "import matplotlib.pylab as plt\n",
        "import cv2\n",
        "import os"
      ],
      "metadata": {
        "id": "eSzeADTfbz1R"
      },
      "execution_count": null,
      "outputs": []
    },
    {
      "cell_type": "code",
      "source": [
        "!git clone https://github.com/VadushaLyapushin/rzhavchina.git"
      ],
      "metadata": {
        "colab": {
          "base_uri": "https://localhost:8080/"
        },
        "id": "IRREe5zXdPUK",
        "outputId": "dd121a8e-fb8d-4071-aa8a-b5f37b5f415e"
      },
      "execution_count": null,
      "outputs": [
        {
          "output_type": "stream",
          "name": "stdout",
          "text": [
            "Cloning into 'rzhavchina'...\n",
            "remote: Enumerating objects: 249, done.\u001b[K\n",
            "remote: Total 249 (delta 0), reused 0 (delta 0), pack-reused 249\u001b[K\n",
            "Receiving objects: 100% (249/249), 52.96 MiB | 38.40 MiB/s, done.\n"
          ]
        }
      ]
    },
    {
      "cell_type": "code",
      "source": [
        "if not os.path.isdir(\"TransformImages\"): # создать пустой каталог (папку)\n",
        "     os.mkdir(\"TransformImages\")"
      ],
      "metadata": {
        "id": "Y_OezyskiHJN"
      },
      "execution_count": 155,
      "outputs": []
    },
    {
      "cell_type": "code",
      "source": [
        "# вывод текущей папки (необходимо указать ту, в которой будем сохранять изображения)\n",
        "os.chdir(\"TransformImages\")\n",
        "print(\"Текущая директория:\", os.getcwd())\n",
        "\n",
        "# os.chdir(\"..\") # вернуться в предыдущую директорию"
      ],
      "metadata": {
        "colab": {
          "base_uri": "https://localhost:8080/"
        },
        "id": "X1J2iSyYIdYI",
        "outputId": "b9d905ae-a7e5-44ee-fb92-1eebf3424ec6"
      },
      "execution_count": 157,
      "outputs": [
        {
          "output_type": "stream",
          "name": "stdout",
          "text": [
            "Текущая директория: /content/TransformImages\n"
          ]
        }
      ]
    },
    {
      "cell_type": "code",
      "source": [
        "# os.makedirs(\"Without corrosion\") # создаём несколько вложенных папок\n",
        "# os.makedirs(\"Surface corrosion\")\n",
        "# os.makedirs(\"Deep corrosion\")"
      ],
      "metadata": {
        "id": "rbuxRUiJiHf3"
      },
      "execution_count": null,
      "outputs": []
    },
    {
      "cell_type": "code",
      "source": [
        "os.chdir(\"..\")"
      ],
      "metadata": {
        "id": "JmxNerZvJy5D"
      },
      "execution_count": 153,
      "outputs": []
    },
    {
      "cell_type": "code",
      "source": [
        "print(\"Текущая директория :\", os.getcwd())"
      ],
      "metadata": {
        "colab": {
          "base_uri": "https://localhost:8080/"
        },
        "id": "gMEAKrewju1S",
        "outputId": "54be9ef6-38f3-4f4c-a3b2-d1d1ce67f7cd"
      },
      "execution_count": 158,
      "outputs": [
        {
          "output_type": "stream",
          "name": "stdout",
          "text": [
            "Текущая директория : /content/TransformImages\n"
          ]
        }
      ]
    },
    {
      "cell_type": "markdown",
      "source": [
        "указываем путь, из которого хотим переименовать изображения"
      ],
      "metadata": {
        "id": "yl2lNVwEJaYN"
      }
    },
    {
      "cell_type": "code",
      "source": [
        "n = 0\n",
        "directory = '/content/rzhavchina/Коррозия металлов/без коррозии'\n",
        "for filename in os.listdir(directory):\n",
        "    images = os.path.join(directory, filename)\n",
        "    if os.path.isfile(images) and filename.endswith('.jpg'):\n",
        "        im1 = Image.open(images)\n",
        "        newname = 'withoutCorrosion.' + str(n) + '.jpg'\n",
        "        im1 = im1.save(newname)\n",
        "        n += 1"
      ],
      "metadata": {
        "id": "zU9GCsGMCjxQ"
      },
      "execution_count": 159,
      "outputs": []
    },
    {
      "cell_type": "code",
      "source": [
        "n = 0\n",
        "directory = '/content/rzhavchina/Коррозия металлов/Поверхностная'\n",
        "for filename in os.listdir(directory):\n",
        "    images = os.path.join(directory, filename)\n",
        "    if os.path.isfile(images) and filename.endswith('.jpg'):\n",
        "        im1 = Image.open(images)\n",
        "        newname = 'surfaceCorrosion.' + str(n) + '.jpg'\n",
        "        im1 = im1.save(newname)\n",
        "        n += 1"
      ],
      "metadata": {
        "id": "UUTg8jL5KH8g"
      },
      "execution_count": 160,
      "outputs": []
    },
    {
      "cell_type": "code",
      "source": [
        "n = 0\n",
        "directory = '/content/rzhavchina/Коррозия металлов/Глубокая'\n",
        "for filename in os.listdir(directory):\n",
        "    images = os.path.join(directory, filename)\n",
        "    if os.path.isfile(images) and filename.endswith('.jpg'):\n",
        "        im1 = Image.open(images)\n",
        "        newname = 'deepCorrosion.' + str(n) + '.jpg'\n",
        "        im1 = im1.save(newname)\n",
        "        n += 1"
      ],
      "metadata": {
        "id": "ZCEZNPtxKbH0"
      },
      "execution_count": 161,
      "outputs": []
    }
  ]
}