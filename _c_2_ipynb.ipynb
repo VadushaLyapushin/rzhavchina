{
  "nbformat": 4,
  "nbformat_minor": 0,
  "metadata": {
    "colab": {
      "provenance": [],
      "include_colab_link": true
    },
    "kernelspec": {
      "name": "python3",
      "display_name": "Python 3"
    },
    "language_info": {
      "name": "python"
    }
  },
  "cells": [
    {
      "cell_type": "markdown",
      "metadata": {
        "id": "view-in-github",
        "colab_type": "text"
      },
      "source": [
        "<a href=\"https://colab.research.google.com/github/VadushaLyapushin/rzhavchina/blob/main/_c_2_ipynb.ipynb\" target=\"_parent\"><img src=\"https://colab.research.google.com/assets/colab-badge.svg\" alt=\"Open In Colab\"/></a>"
      ]
    },
    {
      "cell_type": "code",
      "execution_count": null,
      "metadata": {
        "colab": {
          "base_uri": "https://localhost:8080/"
        },
        "id": "nX3o2_Om69K9",
        "outputId": "9878f17f-be01-47ab-e825-ed6bb5414fe1"
      },
      "outputs": [
        {
          "output_type": "stream",
          "name": "stdout",
          "text": [
            "Cloning into 'rzhavchina'...\n",
            "remote: Enumerating objects: 925, done.\u001b[K\n",
            "remote: Counting objects: 100% (7/7), done.\u001b[K\n",
            "remote: Compressing objects: 100% (7/7), done.\u001b[K\n",
            "remote: Total 925 (delta 0), reused 3 (delta 0), pack-reused 918\u001b[K\n",
            "Receiving objects: 100% (925/925), 127.51 MiB | 33.52 MiB/s, done.\n",
            "Resolving deltas: 100% (9/9), done.\n"
          ]
        }
      ],
      "source": [
        "!git clone https://github.com/VadushaLyapushin/rzhavchina.git"
      ]
    },
    {
      "cell_type": "code",
      "source": [
        "from tensorflow.keras.models import Sequential\n",
        "from tensorflow.keras.layers import BatchNormalization\n",
        "from tensorflow.keras.layers import Conv2D\n",
        "from tensorflow.keras.layers import MaxPooling2D\n",
        "from tensorflow.keras.layers import Activation\n",
        "from tensorflow.keras.layers import Flatten\n",
        "from tensorflow.keras.layers import Dropout\n",
        "from tensorflow.keras.layers import Dense\n",
        "from tensorflow.keras.preprocessing.image import ImageDataGenerator\n",
        "from tensorflow.keras.optimizers import Adam\n",
        "\n",
        "from keras.callbacks import EarlyStopping\n",
        "from keras.callbacks import ModelCheckpoint\n",
        "from keras.models import Sequential\n",
        "from keras.optimizers import SGD\n",
        "\n",
        "from skimage import exposure\n",
        "from skimage import transform\n",
        "from skimage import io\n",
        "\n",
        "from sklearn.model_selection import train_test_split\n",
        "from sklearn.metrics import classification_report\n",
        "\n",
        "from imutils import paths\n",
        "import os\n",
        "import matplotlib.pyplot as plt\n",
        "import csv\n",
        "import cv2\n",
        "import numpy as np\n",
        "import pickle\n",
        "import random\n",
        "\n"
      ],
      "metadata": {
        "id": "Tqz39YX47JXO"
      },
      "execution_count": null,
      "outputs": []
    },
    {
      "cell_type": "code",
      "source": [
        "ImagePathsWithoot = list(paths.list_images(\"/content/rzhavchina/Add images/without\"))\n",
        "random.seed(4)\n",
        "print(len(ImagePathsWithoot))\n",
        "ImagePathsSurface = list(paths.list_images(\"/content/rzhavchina/Add images/surface\"))\n",
        "random.seed(4)\n",
        "print(len(ImagePathsSurface))\n",
        "ImagePathsDeep = list(paths.list_images(\"/content/rzhavchina/Add images/deep\"))\n",
        "random.seed(4)\n",
        "print(len(ImagePathsDeep))"
      ],
      "metadata": {
        "colab": {
          "base_uri": "https://localhost:8080/"
        },
        "id": "NQQnBybj7cqo",
        "outputId": "082b601c-7554-4c61-edb2-fc6fb3329cb8"
      },
      "execution_count": null,
      "outputs": [
        {
          "output_type": "stream",
          "name": "stdout",
          "text": [
            "227\n",
            "178\n",
            "243\n"
          ]
        }
      ]
    },
    {
      "cell_type": "code",
      "source": [
        "ImagePaths = ImagePathsWithoot + ImagePathsDeep\n",
        "\n",
        "random.shuffle(ImagePaths)\n",
        "print(len(ImagePaths))"
      ],
      "metadata": {
        "colab": {
          "base_uri": "https://localhost:8080/"
        },
        "id": "-D5AqNg98A1D",
        "outputId": "aa3b2b7e-f314-46e1-ad4c-9ed565471bfc"
      },
      "execution_count": null,
      "outputs": [
        {
          "output_type": "stream",
          "name": "stdout",
          "text": [
            "470\n"
          ]
        }
      ]
    },
    {
      "cell_type": "code",
      "source": [
        "data = []\n",
        "labels = []\n",
        "\n",
        "i=0\n",
        "for imagepath in ImagePaths:\n",
        "  image = cv2.imread(imagepath)\n",
        "  image = cv2.resize(image, (512, 512))\n",
        "  data.append(image)\n",
        "  label = imagepath.split(os.path.sep)[-2]\n",
        "  if label == \"without\":\n",
        "      label = [1, 0]\n",
        "  elif label == \"deep\":\n",
        "      label = [0, 1]\n",
        "  # if label == \"without\":\n",
        "  #   label = [1, 0, 0]\n",
        "  # elif label == \"surface\":\n",
        "  #   label = [0, 1, 0]\n",
        "  # elif label == \"deep\":\n",
        "  #   label = [0, 0, 1]\n",
        "  labels.append(label)\n",
        "print(labels)\n",
        "\n",
        "data = np.array(data, dtype=\"float\") / 255.0\n",
        "labels = np.array(labels)\n",
        "\n",
        "with open(\"/content/rzhavchina/training/data.pickle\", 'wb') as f:\n",
        "  pickle.dump(data, f)\n",
        "print(\"Data seved\")\n",
        "\n",
        "with open(\"/content/rzhavchina/training/labels.pickle\", 'wb') as f:\n",
        "  pickle.dump(labels, f)\n",
        "print(\"Labels seved\")\n"
      ],
      "metadata": {
        "colab": {
          "base_uri": "https://localhost:8080/"
        },
        "id": "woFPGnaW8GyM",
        "outputId": "fc477e37-e47f-4c18-d130-7aaced7f659f"
      },
      "execution_count": null,
      "outputs": [
        {
          "output_type": "stream",
          "name": "stdout",
          "text": [
            "[[0, 1], [0, 1], [1, 0], [0, 1], [0, 1], [0, 1], [1, 0], [0, 1], [0, 1], [1, 0], [0, 1], [0, 1], [0, 1], [0, 1], [0, 1], [0, 1], [1, 0], [0, 1], [0, 1], [1, 0], [1, 0], [1, 0], [0, 1], [0, 1], [1, 0], [1, 0], [1, 0], [0, 1], [0, 1], [0, 1], [1, 0], [0, 1], [0, 1], [0, 1], [1, 0], [1, 0], [0, 1], [0, 1], [1, 0], [1, 0], [0, 1], [1, 0], [1, 0], [0, 1], [1, 0], [1, 0], [0, 1], [1, 0], [0, 1], [1, 0], [1, 0], [0, 1], [0, 1], [1, 0], [1, 0], [1, 0], [0, 1], [0, 1], [1, 0], [1, 0], [1, 0], [1, 0], [1, 0], [0, 1], [0, 1], [0, 1], [1, 0], [1, 0], [0, 1], [0, 1], [0, 1], [1, 0], [0, 1], [1, 0], [0, 1], [1, 0], [1, 0], [0, 1], [1, 0], [0, 1], [0, 1], [0, 1], [0, 1], [1, 0], [0, 1], [0, 1], [0, 1], [1, 0], [0, 1], [0, 1], [1, 0], [0, 1], [1, 0], [0, 1], [0, 1], [0, 1], [1, 0], [1, 0], [0, 1], [0, 1], [1, 0], [1, 0], [1, 0], [0, 1], [0, 1], [0, 1], [1, 0], [0, 1], [0, 1], [0, 1], [1, 0], [1, 0], [1, 0], [0, 1], [0, 1], [0, 1], [0, 1], [0, 1], [1, 0], [1, 0], [0, 1], [0, 1], [0, 1], [0, 1], [1, 0], [0, 1], [1, 0], [1, 0], [0, 1], [1, 0], [1, 0], [1, 0], [0, 1], [0, 1], [1, 0], [1, 0], [0, 1], [0, 1], [1, 0], [0, 1], [0, 1], [1, 0], [1, 0], [1, 0], [1, 0], [1, 0], [0, 1], [0, 1], [1, 0], [1, 0], [1, 0], [1, 0], [0, 1], [1, 0], [0, 1], [0, 1], [0, 1], [0, 1], [0, 1], [0, 1], [0, 1], [1, 0], [0, 1], [0, 1], [0, 1], [0, 1], [0, 1], [1, 0], [0, 1], [1, 0], [1, 0], [0, 1], [1, 0], [1, 0], [0, 1], [0, 1], [1, 0], [0, 1], [1, 0], [1, 0], [1, 0], [0, 1], [1, 0], [0, 1], [0, 1], [0, 1], [0, 1], [0, 1], [0, 1], [0, 1], [0, 1], [0, 1], [0, 1], [1, 0], [1, 0], [1, 0], [0, 1], [1, 0], [1, 0], [0, 1], [0, 1], [1, 0], [0, 1], [1, 0], [0, 1], [0, 1], [0, 1], [1, 0], [0, 1], [1, 0], [0, 1], [1, 0], [1, 0], [0, 1], [1, 0], [1, 0], [0, 1], [1, 0], [1, 0], [0, 1], [0, 1], [1, 0], [1, 0], [1, 0], [1, 0], [1, 0], [0, 1], [1, 0], [0, 1], [0, 1], [0, 1], [1, 0], [0, 1], [0, 1], [0, 1], [0, 1], [1, 0], [1, 0], [0, 1], [1, 0], [1, 0], [0, 1], [0, 1], [1, 0], [0, 1], [1, 0], [1, 0], [0, 1], [0, 1], [0, 1], [0, 1], [0, 1], [0, 1], [0, 1], [0, 1], [1, 0], [0, 1], [1, 0], [0, 1], [0, 1], [0, 1], [1, 0], [1, 0], [1, 0], [1, 0], [1, 0], [1, 0], [0, 1], [1, 0], [1, 0], [0, 1], [0, 1], [1, 0], [1, 0], [1, 0], [0, 1], [1, 0], [1, 0], [0, 1], [1, 0], [1, 0], [0, 1], [0, 1], [1, 0], [1, 0], [0, 1], [0, 1], [0, 1], [0, 1], [1, 0], [0, 1], [0, 1], [1, 0], [1, 0], [0, 1], [0, 1], [0, 1], [1, 0], [0, 1], [0, 1], [0, 1], [0, 1], [0, 1], [1, 0], [1, 0], [0, 1], [0, 1], [1, 0], [0, 1], [0, 1], [1, 0], [0, 1], [1, 0], [1, 0], [1, 0], [1, 0], [0, 1], [0, 1], [1, 0], [0, 1], [1, 0], [0, 1], [0, 1], [1, 0], [1, 0], [0, 1], [0, 1], [1, 0], [0, 1], [1, 0], [1, 0], [1, 0], [0, 1], [0, 1], [1, 0], [0, 1], [1, 0], [1, 0], [0, 1], [1, 0], [0, 1], [1, 0], [0, 1], [0, 1], [0, 1], [1, 0], [1, 0], [0, 1], [1, 0], [1, 0], [0, 1], [1, 0], [0, 1], [0, 1], [0, 1], [1, 0], [1, 0], [1, 0], [1, 0], [0, 1], [0, 1], [1, 0], [1, 0], [0, 1], [1, 0], [1, 0], [1, 0], [1, 0], [0, 1], [0, 1], [1, 0], [0, 1], [1, 0], [1, 0], [1, 0], [0, 1], [1, 0], [0, 1], [0, 1], [1, 0], [0, 1], [0, 1], [1, 0], [0, 1], [1, 0], [1, 0], [0, 1], [0, 1], [0, 1], [0, 1], [0, 1], [0, 1], [0, 1], [0, 1], [1, 0], [1, 0], [1, 0], [1, 0], [1, 0], [1, 0], [1, 0], [0, 1], [1, 0], [1, 0], [0, 1], [1, 0], [1, 0], [0, 1], [0, 1], [0, 1], [1, 0], [0, 1], [0, 1], [1, 0], [1, 0], [1, 0], [0, 1], [1, 0], [1, 0], [0, 1], [1, 0], [1, 0], [1, 0], [0, 1], [1, 0], [0, 1], [1, 0], [0, 1], [1, 0], [1, 0], [0, 1], [0, 1], [0, 1], [1, 0], [1, 0], [1, 0], [1, 0], [0, 1], [1, 0], [0, 1], [0, 1], [0, 1], [1, 0], [1, 0], [1, 0], [1, 0], [0, 1], [1, 0], [0, 1], [1, 0], [1, 0], [0, 1], [0, 1], [1, 0], [1, 0], [0, 1], [0, 1], [1, 0], [0, 1], [1, 0], [1, 0], [1, 0], [1, 0], [1, 0], [0, 1], [1, 0], [0, 1], [1, 0], [1, 0], [1, 0]]\n",
            "Data seved\n",
            "Labels seved\n"
          ]
        }
      ]
    },
    {
      "cell_type": "code",
      "source": [
        "np.prod(labels.shape)"
      ],
      "metadata": {
        "colab": {
          "base_uri": "https://localhost:8080/"
        },
        "id": "8MOJZ8jx9Y5B",
        "outputId": "b5df9ab5-e40f-4aaf-8e85-7246cafccc28"
      },
      "execution_count": null,
      "outputs": [
        {
          "output_type": "execute_result",
          "data": {
            "text/plain": [
              "940"
            ]
          },
          "metadata": {},
          "execution_count": 12
        }
      ]
    },
    {
      "cell_type": "code",
      "source": [
        "with open(\"/content/rzhavchina/training/data.pickle\", 'rb') as f:\n",
        "  data = pickle.load(f)\n",
        "print(\"Data loaded\")\n",
        "\n",
        "with open(\"/content/rzhavchina/training/labels.pickle\", 'rb') as f:\n",
        "  labels = pickle.load(f)\n",
        "print(\"Labels loaded\")\n",
        "\n",
        "(trainX, testX, trainY, testY) = train_test_split(data, labels,\n",
        "                                                  test_size=0.15,\n",
        "                                                  random_state=4)\n",
        "\n",
        "print(\"Dataset prepared\")"
      ],
      "metadata": {
        "colab": {
          "base_uri": "https://localhost:8080/"
        },
        "id": "Nw7VLwC89xxL",
        "outputId": "c11c2136-af1c-4945-d67a-84dd898f8443"
      },
      "execution_count": null,
      "outputs": [
        {
          "output_type": "stream",
          "name": "stdout",
          "text": [
            "Data loaded\n",
            "Labels loaded\n",
            "Dataset prepared\n"
          ]
        }
      ]
    },
    {
      "cell_type": "code",
      "source": [
        "model = Sequential()\n",
        "inputShape = (512, 512, 3)\n",
        "chanDim = -1\n",
        "    # CONV => RELU => BN => POOL\n",
        "model.add(Conv2D(8, (5, 5), padding=\"same\",\n",
        "  input_shape=inputShape))\n",
        "model.add(Activation(\"relu\"))\n",
        "model.add(BatchNormalization(axis=chanDim))\n",
        "model.add(MaxPooling2D(pool_size=(2, 2)))\n",
        "  # first set of (CONV => RELU => CONV => RELU) * 2 => POOL\n",
        "model.add(Conv2D(16, (3, 3), padding=\"same\"))\n",
        "model.add(Activation(\"relu\"))\n",
        "model.add(BatchNormalization(axis=chanDim))\n",
        "model.add(Conv2D(16, (3, 3), padding=\"same\"))\n",
        "model.add(Activation(\"relu\"))\n",
        "model.add(BatchNormalization(axis=chanDim))\n",
        "model.add(MaxPooling2D(pool_size=(2, 2)))\n",
        "# second set of (CONV => RELU => CONV => RELU) * 2 => POOL\n",
        "model.add(Conv2D(32, (3, 3), padding=\"same\"))\n",
        "model.add(Activation(\"relu\"))\n",
        "model.add(BatchNormalization(axis=chanDim))\n",
        "model.add(Conv2D(32, (3, 3), padding=\"same\"))\n",
        "model.add(Activation(\"relu\"))\n",
        "model.add(BatchNormalization(axis=chanDim))\n",
        "model.add(MaxPooling2D(pool_size=(2, 2)))\n",
        "  # first set of FC => RELU layers\n",
        "model.add(Flatten())\n",
        "model.add(Dense(128))\n",
        "model.add(Activation(\"relu\"))\n",
        "model.add(BatchNormalization())\n",
        "model.add(Dropout(0.5))\n",
        "# second set of FC => RELU layers\n",
        "model.add(Flatten())\n",
        "model.add(Dense(128))\n",
        "model.add(Activation(\"relu\"))\n",
        "model.add(BatchNormalization())\n",
        "model.add(Dropout(0.5))\n",
        "# softmax classifier\n",
        "model.add(Dense(2))\n",
        "model.add(Activation(\"softmax\"))\n",
        "# return the constructed network architecture\n",
        "print (\"End\")"
      ],
      "metadata": {
        "colab": {
          "base_uri": "https://localhost:8080/"
        },
        "id": "FHC1R6Bt-Hm5",
        "outputId": "3ef82640-e7c3-40cd-9e32-e2c1abe90703"
      },
      "execution_count": null,
      "outputs": [
        {
          "output_type": "stream",
          "name": "stdout",
          "text": [
            "End\n"
          ]
        }
      ]
    },
    {
      "cell_type": "code",
      "source": [],
      "metadata": {
        "id": "caKD9JgJ-sGe"
      },
      "execution_count": null,
      "outputs": []
    },
    {
      "cell_type": "code",
      "source": [
        "# with open(\"/content/rzhavchina/training/data.pickle\", 'rb') as f:\n",
        "#   data = pickle.load(f)\n",
        "# print(\"Data loaded\")\n",
        "\n",
        "# with open(\"/content/rzhavchina/training/labels.pickle\", 'rb') as f:\n",
        "#   labels = pickle.load(f)\n",
        "# print(\"Labels loaded\")\n",
        "\n",
        "# (trainX, testX, trainY, testY) = train_test_split(data, labels,\n",
        "#                                                   test_size=0.15,\n",
        "#                                                   random_state=42)\n",
        "\n",
        "# print(\"Dataset prepared\")\n",
        "\n",
        "\n",
        "# classTotals = trainY.sum(axis=0)\n",
        "# classWeight = classTotals.max() / classTotals\n",
        "# print(type(classWeight))\n",
        "\n",
        "classTotals = trainY.sum(axis=0)\n",
        "print(classTotals)\n",
        "classWeight = classTotals.max() / classTotals\n",
        "print(classWeight/1)\n",
        "\n",
        "TestclassTotals = testY.sum(axis=0)\n",
        "TestclassWeight = TestclassTotals.max() / TestclassTotals\n",
        "print(TestclassTotals)\n",
        "print(\"TestclassWeight\")\n",
        "print(TestclassWeight//1)\n",
        "f=TestclassTotals.argmin()\n",
        "\n",
        "\n",
        "\n",
        "# initialize the number of epochs to train for, base learning rate,\n",
        "# and batch size\n",
        "NUM_EPOCHS = 30\n",
        "INIT_LR = 1e-3\n",
        "BS = 32\n",
        "# load the label names\n",
        "target_names= [\"without\", \"deep\"]\n",
        "numLabels = len(target_names)\n",
        "\n",
        "# construct the image generator for data augmentation\n",
        "opt = 'adam'\n",
        "# model.compile(loss='categorical_crossentropy', optimizer=opt, metrics=['accuracy'])\n",
        "\n",
        "# opt = keras.optimizers.legacy.Adam(lr=INIT_LR, decay=INIT_LR / (NUM_EPOCHS * 0.5))\n",
        "\n",
        "# opt = tf.keras.optimizers.legacy.Adam(\n",
        "#     learning_rate=INIT_LR,\n",
        "#     beta_1=0.9,\n",
        "#     beta_2=0.999,\n",
        "#     epsilon=1e-07,\n",
        "#     amsgrad=False,\n",
        "#     name='Adam',\n",
        "#     **kwargs)\n",
        "\n",
        "\n",
        "model.compile(loss=\"categorical_crossentropy\", optimizer=opt,\n",
        "\tmetrics=[\"accuracy\"])\n",
        "model.summary()\n"
      ],
      "metadata": {
        "colab": {
          "base_uri": "https://localhost:8080/"
        },
        "id": "w4ZOAFBi-M32",
        "outputId": "bebd5fd9-cf87-4288-b87e-a767d0dfb3b7"
      },
      "execution_count": null,
      "outputs": [
        {
          "output_type": "stream",
          "name": "stdout",
          "text": [
            "[191 208]\n",
            "[1.08900524 1.        ]\n",
            "[36 35]\n",
            "TestclassWeight\n",
            "[1. 1.]\n",
            "Model: \"sequential\"\n",
            "_________________________________________________________________\n",
            " Layer (type)                Output Shape              Param #   \n",
            "=================================================================\n",
            " conv2d (Conv2D)             (None, 512, 512, 8)       608       \n",
            "                                                                 \n",
            " activation (Activation)     (None, 512, 512, 8)       0         \n",
            "                                                                 \n",
            " batch_normalization (Batch  (None, 512, 512, 8)       32        \n",
            " Normalization)                                                  \n",
            "                                                                 \n",
            " max_pooling2d (MaxPooling2  (None, 256, 256, 8)       0         \n",
            " D)                                                              \n",
            "                                                                 \n",
            " conv2d_1 (Conv2D)           (None, 256, 256, 16)      1168      \n",
            "                                                                 \n",
            " activation_1 (Activation)   (None, 256, 256, 16)      0         \n",
            "                                                                 \n",
            " batch_normalization_1 (Bat  (None, 256, 256, 16)      64        \n",
            " chNormalization)                                                \n",
            "                                                                 \n",
            " conv2d_2 (Conv2D)           (None, 256, 256, 16)      2320      \n",
            "                                                                 \n",
            " activation_2 (Activation)   (None, 256, 256, 16)      0         \n",
            "                                                                 \n",
            " batch_normalization_2 (Bat  (None, 256, 256, 16)      64        \n",
            " chNormalization)                                                \n",
            "                                                                 \n",
            " max_pooling2d_1 (MaxPoolin  (None, 128, 128, 16)      0         \n",
            " g2D)                                                            \n",
            "                                                                 \n",
            " conv2d_3 (Conv2D)           (None, 128, 128, 32)      4640      \n",
            "                                                                 \n",
            " activation_3 (Activation)   (None, 128, 128, 32)      0         \n",
            "                                                                 \n",
            " batch_normalization_3 (Bat  (None, 128, 128, 32)      128       \n",
            " chNormalization)                                                \n",
            "                                                                 \n",
            " conv2d_4 (Conv2D)           (None, 128, 128, 32)      9248      \n",
            "                                                                 \n",
            " activation_4 (Activation)   (None, 128, 128, 32)      0         \n",
            "                                                                 \n",
            " batch_normalization_4 (Bat  (None, 128, 128, 32)      128       \n",
            " chNormalization)                                                \n",
            "                                                                 \n",
            " max_pooling2d_2 (MaxPoolin  (None, 64, 64, 32)        0         \n",
            " g2D)                                                            \n",
            "                                                                 \n",
            " flatten (Flatten)           (None, 131072)            0         \n",
            "                                                                 \n",
            " dense (Dense)               (None, 128)               16777344  \n",
            "                                                                 \n",
            " activation_5 (Activation)   (None, 128)               0         \n",
            "                                                                 \n",
            " batch_normalization_5 (Bat  (None, 128)               512       \n",
            " chNormalization)                                                \n",
            "                                                                 \n",
            " dropout (Dropout)           (None, 128)               0         \n",
            "                                                                 \n",
            " flatten_1 (Flatten)         (None, 128)               0         \n",
            "                                                                 \n",
            " dense_1 (Dense)             (None, 128)               16512     \n",
            "                                                                 \n",
            " activation_6 (Activation)   (None, 128)               0         \n",
            "                                                                 \n",
            " batch_normalization_6 (Bat  (None, 128)               512       \n",
            " chNormalization)                                                \n",
            "                                                                 \n",
            " dropout_1 (Dropout)         (None, 128)               0         \n",
            "                                                                 \n",
            " dense_2 (Dense)             (None, 2)                 258       \n",
            "                                                                 \n",
            " activation_7 (Activation)   (None, 2)                 0         \n",
            "                                                                 \n",
            "=================================================================\n",
            "Total params: 16813538 (64.14 MB)\n",
            "Trainable params: 16812818 (64.14 MB)\n",
            "Non-trainable params: 720 (2.81 KB)\n",
            "_________________________________________________________________\n"
          ]
        }
      ]
    },
    {
      "cell_type": "code",
      "source": [
        "aug = ImageDataGenerator(\n",
        "\trotation_range=5,\n",
        "\tzoom_range=0.05,\n",
        "\twidth_shift_range=0.05,\n",
        "\theight_shift_range=0.05,\n",
        "\tshear_range=0.10,\n",
        "\thorizontal_flip=False,\n",
        "\tvertical_flip=False,\n",
        "\tfill_mode=\"nearest\")\n",
        "\n",
        "# train the network\n",
        "print(\"[INFO] training network...\")\n",
        "print(classWeight)\n",
        "\n",
        "class_Weight = {0: 1.,\n",
        "                1: 1.}\n",
        "\n",
        "\n",
        "checkpointer = ModelCheckpoint(filepath='/content/rzhavchina/training/Best_Sign_Class.h5', verbose=1, save_best_only=True)\n",
        "\n",
        "H = model.fit_generator(aug.flow(trainX, trainY, batch_size=BS),\n",
        "\t\t\t\t\t\t\t\t\t\t\t\tvalidation_data=(testX, testY),\n",
        "\t\t\t\t\t\t\t\t\t\t\t\tsteps_per_epoch=trainX.shape[0] // BS,\n",
        "\t\t\t\t\t\t\t\t\t\t\t\tepochs=NUM_EPOCHS,\n",
        "                        shuffle=True,\n",
        "                        class_weight=class_Weight,\n",
        "                        callbacks=[checkpointer])\n"
      ],
      "metadata": {
        "colab": {
          "base_uri": "https://localhost:8080/"
        },
        "id": "y0mTTmdx_UbJ",
        "outputId": "71e2586c-7c12-4a58-d804-93638150960a"
      },
      "execution_count": null,
      "outputs": [
        {
          "output_type": "stream",
          "name": "stdout",
          "text": [
            "[INFO] training network...\n",
            "[1.08900524 1.        ]\n"
          ]
        },
        {
          "output_type": "stream",
          "name": "stderr",
          "text": [
            "<ipython-input-16-0dd0b7df059c>:21: UserWarning: `Model.fit_generator` is deprecated and will be removed in a future version. Please use `Model.fit`, which supports generators.\n",
            "  H = model.fit_generator(aug.flow(trainX, trainY, batch_size=BS),\n"
          ]
        },
        {
          "output_type": "stream",
          "name": "stdout",
          "text": [
            "Epoch 1/30\n",
            "12/12 [==============================] - ETA: 0s - loss: 0.5496 - accuracy: 0.8147 \n",
            "Epoch 1: val_loss improved from inf to 1.95785, saving model to /content/rzhavchina/training/Best_Sign_Class.h5\n"
          ]
        },
        {
          "output_type": "stream",
          "name": "stderr",
          "text": [
            "/usr/local/lib/python3.10/dist-packages/keras/src/engine/training.py:3000: UserWarning: You are saving your model as an HDF5 file via `model.save()`. This file format is considered legacy. We recommend using instead the native Keras format, e.g. `model.save('my_model.keras')`.\n",
            "  saving_api.save_model(\n"
          ]
        },
        {
          "output_type": "stream",
          "name": "stdout",
          "text": [
            "\b\b\b\b\b\b\b\b\b\b\b\b\b\b\b\b\b\b\b\b\b\b\b\b\b\b\b\b\b\b\b\b\b\b\b\b\b\b\b\b\b\b\b\b\b\b\b\b\b\b\b\b\b\b\b\b\b\b\b\b\b\b\b\b\b\b\b\b\b\b\b\b\b\b\b\b\b\b\b\b\b\b\r12/12 [==============================] - 186s 15s/step - loss: 0.5496 - accuracy: 0.8147 - val_loss: 1.9579 - val_accuracy: 0.5070\n",
            "Epoch 2/30\n",
            "12/12 [==============================] - ETA: 0s - loss: 0.2699 - accuracy: 0.8992 \n",
            "Epoch 2: val_loss did not improve from 1.95785\n",
            "12/12 [==============================] - 175s 14s/step - loss: 0.2699 - accuracy: 0.8992 - val_loss: 2.2648 - val_accuracy: 0.5070\n",
            "Epoch 3/30\n",
            "12/12 [==============================] - ETA: 0s - loss: 0.1907 - accuracy: 0.9319 \n",
            "Epoch 3: val_loss did not improve from 1.95785\n",
            "12/12 [==============================] - 176s 14s/step - loss: 0.1907 - accuracy: 0.9319 - val_loss: 2.8038 - val_accuracy: 0.5070\n",
            "Epoch 4/30\n",
            "12/12 [==============================] - ETA: 0s - loss: 0.1947 - accuracy: 0.9264 \n",
            "Epoch 4: val_loss did not improve from 1.95785\n",
            "12/12 [==============================] - 177s 14s/step - loss: 0.1947 - accuracy: 0.9264 - val_loss: 2.8025 - val_accuracy: 0.5070\n",
            "Epoch 5/30\n",
            "12/12 [==============================] - ETA: 0s - loss: 0.1425 - accuracy: 0.9510 \n",
            "Epoch 5: val_loss did not improve from 1.95785\n",
            "12/12 [==============================] - 176s 14s/step - loss: 0.1425 - accuracy: 0.9510 - val_loss: 3.4359 - val_accuracy: 0.5070\n",
            "Epoch 6/30\n",
            "12/12 [==============================] - ETA: 0s - loss: 0.1593 - accuracy: 0.9401 \n",
            "Epoch 6: val_loss did not improve from 1.95785\n",
            "12/12 [==============================] - 176s 14s/step - loss: 0.1593 - accuracy: 0.9401 - val_loss: 4.6926 - val_accuracy: 0.5070\n",
            "Epoch 7/30\n",
            "12/12 [==============================] - ETA: 0s - loss: 0.1439 - accuracy: 0.9591 \n",
            "Epoch 7: val_loss did not improve from 1.95785\n",
            "12/12 [==============================] - 176s 14s/step - loss: 0.1439 - accuracy: 0.9591 - val_loss: 4.6519 - val_accuracy: 0.5070\n",
            "Epoch 8/30\n",
            "12/12 [==============================] - ETA: 0s - loss: 0.1935 - accuracy: 0.9428 \n",
            "Epoch 8: val_loss did not improve from 1.95785\n",
            "12/12 [==============================] - 175s 15s/step - loss: 0.1935 - accuracy: 0.9428 - val_loss: 4.5207 - val_accuracy: 0.5070\n",
            "Epoch 9/30\n",
            "12/12 [==============================] - ETA: 0s - loss: 0.1516 - accuracy: 0.9537 \n",
            "Epoch 9: val_loss did not improve from 1.95785\n",
            "12/12 [==============================] - 175s 14s/step - loss: 0.1516 - accuracy: 0.9537 - val_loss: 5.6354 - val_accuracy: 0.5070\n",
            "Epoch 10/30\n",
            "12/12 [==============================] - ETA: 0s - loss: 0.1275 - accuracy: 0.9609 \n",
            "Epoch 10: val_loss did not improve from 1.95785\n",
            "12/12 [==============================] - 178s 14s/step - loss: 0.1275 - accuracy: 0.9609 - val_loss: 5.3331 - val_accuracy: 0.5070\n",
            "Epoch 11/30\n",
            "12/12 [==============================] - ETA: 0s - loss: 0.2028 - accuracy: 0.9455 \n",
            "Epoch 11: val_loss did not improve from 1.95785\n",
            "12/12 [==============================] - 176s 14s/step - loss: 0.2028 - accuracy: 0.9455 - val_loss: 4.6197 - val_accuracy: 0.5070\n",
            "Epoch 12/30\n",
            "12/12 [==============================] - ETA: 0s - loss: 0.1410 - accuracy: 0.9537 \n",
            "Epoch 12: val_loss did not improve from 1.95785\n",
            "12/12 [==============================] - 176s 14s/step - loss: 0.1410 - accuracy: 0.9537 - val_loss: 3.8755 - val_accuracy: 0.5070\n",
            "Epoch 13/30\n",
            "12/12 [==============================] - ETA: 0s - loss: 0.1396 - accuracy: 0.9537 \n",
            "Epoch 13: val_loss did not improve from 1.95785\n",
            "12/12 [==============================] - 174s 14s/step - loss: 0.1396 - accuracy: 0.9537 - val_loss: 3.9400 - val_accuracy: 0.5070\n",
            "Epoch 14/30\n",
            "12/12 [==============================] - ETA: 0s - loss: 0.0929 - accuracy: 0.9564 \n",
            "Epoch 14: val_loss did not improve from 1.95785\n",
            "12/12 [==============================] - 175s 15s/step - loss: 0.0929 - accuracy: 0.9564 - val_loss: 3.6282 - val_accuracy: 0.5070\n",
            "Epoch 15/30\n",
            "12/12 [==============================] - ETA: 0s - loss: 0.0866 - accuracy: 0.9700 \n",
            "Epoch 15: val_loss did not improve from 1.95785\n",
            "12/12 [==============================] - 175s 15s/step - loss: 0.0866 - accuracy: 0.9700 - val_loss: 4.5788 - val_accuracy: 0.5070\n",
            "Epoch 16/30\n",
            "12/12 [==============================] - ETA: 0s - loss: 0.0582 - accuracy: 0.9837 \n",
            "Epoch 16: val_loss did not improve from 1.95785\n",
            "12/12 [==============================] - 173s 14s/step - loss: 0.0582 - accuracy: 0.9837 - val_loss: 4.6287 - val_accuracy: 0.5070\n",
            "Epoch 17/30\n",
            "12/12 [==============================] - ETA: 0s - loss: 0.0892 - accuracy: 0.9700 \n",
            "Epoch 17: val_loss did not improve from 1.95785\n",
            "12/12 [==============================] - 174s 14s/step - loss: 0.0892 - accuracy: 0.9700 - val_loss: 4.1509 - val_accuracy: 0.5070\n",
            "Epoch 18/30\n",
            "12/12 [==============================] - ETA: 0s - loss: 0.0729 - accuracy: 0.9809 \n",
            "Epoch 18: val_loss did not improve from 1.95785\n",
            "12/12 [==============================] - 174s 14s/step - loss: 0.0729 - accuracy: 0.9809 - val_loss: 4.6391 - val_accuracy: 0.5070\n",
            "Epoch 19/30\n",
            "12/12 [==============================] - ETA: 0s - loss: 0.0500 - accuracy: 0.9837 \n",
            "Epoch 19: val_loss did not improve from 1.95785\n",
            "12/12 [==============================] - 173s 14s/step - loss: 0.0500 - accuracy: 0.9837 - val_loss: 4.5233 - val_accuracy: 0.5211\n",
            "Epoch 20/30\n",
            "12/12 [==============================] - ETA: 0s - loss: 0.0994 - accuracy: 0.9700 \n",
            "Epoch 20: val_loss did not improve from 1.95785\n",
            "12/12 [==============================] - 176s 15s/step - loss: 0.0994 - accuracy: 0.9700 - val_loss: 4.4731 - val_accuracy: 0.5211\n",
            "Epoch 21/30\n",
            "12/12 [==============================] - ETA: 0s - loss: 0.0882 - accuracy: 0.9700 \n",
            "Epoch 21: val_loss improved from 1.95785 to 1.80427, saving model to /content/rzhavchina/training/Best_Sign_Class.h5\n",
            "12/12 [==============================] - 180s 15s/step - loss: 0.0882 - accuracy: 0.9700 - val_loss: 1.8043 - val_accuracy: 0.6056\n",
            "Epoch 22/30\n",
            "12/12 [==============================] - ETA: 0s - loss: 0.0656 - accuracy: 0.9809 \n",
            "Epoch 22: val_loss improved from 1.80427 to 1.69797, saving model to /content/rzhavchina/training/Best_Sign_Class.h5\n",
            "12/12 [==============================] - 182s 15s/step - loss: 0.0656 - accuracy: 0.9809 - val_loss: 1.6980 - val_accuracy: 0.6197\n",
            "Epoch 23/30\n",
            "12/12 [==============================] - ETA: 0s - loss: 0.0817 - accuracy: 0.9782 \n",
            "Epoch 23: val_loss did not improve from 1.69797\n",
            "12/12 [==============================] - 178s 14s/step - loss: 0.0817 - accuracy: 0.9782 - val_loss: 2.5484 - val_accuracy: 0.5352\n",
            "Epoch 24/30\n",
            "12/12 [==============================] - ETA: 0s - loss: 0.0915 - accuracy: 0.9755 \n",
            "Epoch 24: val_loss improved from 1.69797 to 1.49369, saving model to /content/rzhavchina/training/Best_Sign_Class.h5\n",
            "12/12 [==============================] - 181s 15s/step - loss: 0.0915 - accuracy: 0.9755 - val_loss: 1.4937 - val_accuracy: 0.7042\n",
            "Epoch 25/30\n",
            "12/12 [==============================] - ETA: 0s - loss: 0.0917 - accuracy: 0.9591 \n",
            "Epoch 25: val_loss did not improve from 1.49369\n",
            "12/12 [==============================] - 176s 14s/step - loss: 0.0917 - accuracy: 0.9591 - val_loss: 2.4031 - val_accuracy: 0.6056\n",
            "Epoch 26/30\n",
            "12/12 [==============================] - ETA: 0s - loss: 0.0346 - accuracy: 0.9918 \n",
            "Epoch 26: val_loss did not improve from 1.49369\n",
            "12/12 [==============================] - 173s 14s/step - loss: 0.0346 - accuracy: 0.9918 - val_loss: 1.8107 - val_accuracy: 0.6197\n",
            "Epoch 27/30\n",
            "12/12 [==============================] - ETA: 0s - loss: 0.0448 - accuracy: 0.9837 \n",
            "Epoch 27: val_loss did not improve from 1.49369\n",
            "12/12 [==============================] - 175s 14s/step - loss: 0.0448 - accuracy: 0.9837 - val_loss: 2.0895 - val_accuracy: 0.5915\n",
            "Epoch 28/30\n",
            "12/12 [==============================] - ETA: 0s - loss: 0.0440 - accuracy: 0.9809 \n",
            "Epoch 28: val_loss did not improve from 1.49369\n",
            "12/12 [==============================] - 176s 14s/step - loss: 0.0440 - accuracy: 0.9809 - val_loss: 1.8956 - val_accuracy: 0.6901\n",
            "Epoch 29/30\n",
            "12/12 [==============================] - ETA: 0s - loss: 0.0392 - accuracy: 0.9864 \n",
            "Epoch 29: val_loss improved from 1.49369 to 0.61476, saving model to /content/rzhavchina/training/Best_Sign_Class.h5\n",
            "12/12 [==============================] - 181s 15s/step - loss: 0.0392 - accuracy: 0.9864 - val_loss: 0.6148 - val_accuracy: 0.7746\n",
            "Epoch 30/30\n",
            "12/12 [==============================] - ETA: 0s - loss: 0.0428 - accuracy: 0.9864 \n",
            "Epoch 30: val_loss improved from 0.61476 to 0.51955, saving model to /content/rzhavchina/training/Best_Sign_Class.h5\n",
            "12/12 [==============================] - 180s 15s/step - loss: 0.0428 - accuracy: 0.9864 - val_loss: 0.5196 - val_accuracy: 0.8451\n"
          ]
        }
      ]
    },
    {
      "cell_type": "code",
      "source": [
        "predictions = model.predict (testX, batch_size = 32)\n",
        "# print(predictions)\n",
        "\n",
        "print(classification_report(testY.argmax(axis=1),\n",
        "                            predictions.argmax(axis=1), target_names=(\"without\",\"deep\")))\n"
      ],
      "metadata": {
        "id": "KunTpP-8h7Hu",
        "outputId": "aa06d9fc-a526-48c5-f800-8d2ca0b0555b",
        "colab": {
          "base_uri": "https://localhost:8080/"
        }
      },
      "execution_count": null,
      "outputs": [
        {
          "output_type": "stream",
          "name": "stdout",
          "text": [
            "3/3 [==============================] - 9s 3s/step\n",
            "              precision    recall  f1-score   support\n",
            "\n",
            "     without       0.77      1.00      0.87        36\n",
            "        deep       1.00      0.69      0.81        35\n",
            "\n",
            "    accuracy                           0.85        71\n",
            "   macro avg       0.88      0.84      0.84        71\n",
            "weighted avg       0.88      0.85      0.84        71\n",
            "\n"
          ]
        }
      ]
    },
    {
      "cell_type": "code",
      "source": [
        "N = np.arange(0, NUM_EPOCHS)\n",
        "plt.style.use(\"ggplot\")\n",
        "plt.figure()\n",
        "# plt.plot(N, H.history[\"loss\"], label=\"train_loss\")\n",
        "# plt.plot(N, H.history[\"val_loss\"], label=\"vall_loss\")\n",
        "plt.plot(N, H.history[\"accuracy\"], label=\"train_acc\")\n",
        "plt.plot(N, H.history[\"val_accuracy\"], label=\"val_acc\")\n",
        "plt.title(\"Results\")\n",
        "plt.xlabel(\"Epoch #\")\n",
        "plt.ylabel(\"Accuracy\")\n",
        "plt.legend()\n",
        "plt.savefig(\"/content/rzhavchina/training/Loss.png\")\n",
        "\n",
        "print(\"End\")"
      ],
      "metadata": {
        "id": "fYQ-ZTUEi0wM",
        "outputId": "f7600597-e0ae-481e-ea39-bf8683ae71e0",
        "colab": {
          "base_uri": "https://localhost:8080/",
          "height": 495
        }
      },
      "execution_count": null,
      "outputs": [
        {
          "output_type": "stream",
          "name": "stdout",
          "text": [
            "End\n"
          ]
        },
        {
          "output_type": "display_data",
          "data": {
            "text/plain": [
              "<Figure size 640x480 with 1 Axes>"
            ],
            "image/png": "[encoded data removed]"
          },
          "metadata": {}
        }
      ]
    },
    {
      "cell_type": "code",
      "source": [
        "from google.colab import drive\n",
        "drive.mount('/content/drive/')"
      ],
      "metadata": {
        "id": "M6gtxlA8jVYw",
        "colab": {
          "base_uri": "https://localhost:8080/"
        },
        "outputId": "ee74ece2-e72b-4c80-a171-c9ac1c38759e"
      },
      "execution_count": null,
      "outputs": [
        {
          "output_type": "stream",
          "name": "stdout",
          "text": [
            "Mounted at /content/drive/\n"
          ]
        }
      ]
    },
    {
      "cell_type": "code",
      "source": [
        "from keras.models import load_model\n",
        "from imutils import paths\n",
        "from google.colab.patches import cv2_imshow\n",
        "import numpy as np\n",
        "import cv2\n"
      ],
      "metadata": {
        "id": "gpJ9XSzUk9Ri"
      },
      "execution_count": null,
      "outputs": []
    },
    {
      "cell_type": "code",
      "source": [
        "model = load_model(\"/content/drive/MyDrive/training/Best_Sign_Class.h5\")"
      ],
      "metadata": {
        "id": "SbU0KB06muRY"
      },
      "execution_count": null,
      "outputs": []
    },
    {
      "cell_type": "code",
      "source": [
        "ImagePaths = list(paths.list_images(\"/content/rzhavchina/Add images/test\"))"
      ],
      "metadata": {
        "id": "zkTH5ZnOm6-d"
      },
      "execution_count": null,
      "outputs": []
    }
  ]
}